{
 "cells": [
  {
   "cell_type": "markdown",
   "metadata": {},
   "source": [
    "# Boolean Retrieval"
   ]
  },
  {
   "cell_type": "code",
   "execution_count": 2,
   "metadata": {},
   "outputs": [
    {
     "name": "stdout",
     "output_type": "stream",
     "text": [
      "Requirement already satisfied: tabulate in /Users/drweb/projects/mmir-unibasel/.venv/lib/python3.11/site-packages (from -r requirements.txt (line 1)) (0.9.0)\n",
      "Requirement already satisfied: ipywidgets in /Users/drweb/projects/mmir-unibasel/.venv/lib/python3.11/site-packages (from -r requirements.txt (line 2)) (8.1.5)\n",
      "Requirement already satisfied: pandas in /Users/drweb/projects/mmir-unibasel/.venv/lib/python3.11/site-packages (from -r requirements.txt (line 3)) (2.2.2)\n",
      "Requirement already satisfied: numpy in /Users/drweb/projects/mmir-unibasel/.venv/lib/python3.11/site-packages (from -r requirements.txt (line 4)) (1.26.4)\n",
      "Requirement already satisfied: boto3 in /Users/drweb/projects/mmir-unibasel/.venv/lib/python3.11/site-packages (from -r requirements.txt (line 5)) (1.35.18)\n",
      "Requirement already satisfied: opencv-python in /Users/drweb/projects/mmir-unibasel/.venv/lib/python3.11/site-packages (from -r requirements.txt (line 6)) (4.10.0.84)\n",
      "Requirement already satisfied: scikit-image in /Users/drweb/projects/mmir-unibasel/.venv/lib/python3.11/site-packages (from -r requirements.txt (line 7)) (0.24.0)\n",
      "Requirement already satisfied: matplot in /Users/drweb/projects/mmir-unibasel/.venv/lib/python3.11/site-packages (from -r requirements.txt (line 8)) (0.1.9)\n",
      "Requirement already satisfied: PyPDF2 in /Users/drweb/projects/mmir-unibasel/.venv/lib/python3.11/site-packages (from -r requirements.txt (line 9)) (3.0.1)\n",
      "Requirement already satisfied: unidecode in /Users/drweb/projects/mmir-unibasel/.venv/lib/python3.11/site-packages (from -r requirements.txt (line 10)) (1.3.8)\n",
      "Requirement already satisfied: comm>=0.1.3 in /Users/drweb/projects/mmir-unibasel/.venv/lib/python3.11/site-packages (from ipywidgets->-r requirements.txt (line 2)) (0.2.2)\n",
      "Requirement already satisfied: ipython>=6.1.0 in /Users/drweb/projects/mmir-unibasel/.venv/lib/python3.11/site-packages (from ipywidgets->-r requirements.txt (line 2)) (8.27.0)\n",
      "Requirement already satisfied: traitlets>=4.3.1 in /Users/drweb/projects/mmir-unibasel/.venv/lib/python3.11/site-packages (from ipywidgets->-r requirements.txt (line 2)) (5.14.3)\n",
      "Requirement already satisfied: widgetsnbextension~=4.0.12 in /Users/drweb/projects/mmir-unibasel/.venv/lib/python3.11/site-packages (from ipywidgets->-r requirements.txt (line 2)) (4.0.13)\n",
      "Requirement already satisfied: jupyterlab-widgets~=3.0.12 in /Users/drweb/projects/mmir-unibasel/.venv/lib/python3.11/site-packages (from ipywidgets->-r requirements.txt (line 2)) (3.0.13)\n",
      "Requirement already satisfied: python-dateutil>=2.8.2 in /Users/drweb/projects/mmir-unibasel/.venv/lib/python3.11/site-packages (from pandas->-r requirements.txt (line 3)) (2.9.0.post0)\n",
      "Requirement already satisfied: pytz>=2020.1 in /Users/drweb/projects/mmir-unibasel/.venv/lib/python3.11/site-packages (from pandas->-r requirements.txt (line 3)) (2024.2)\n",
      "Requirement already satisfied: tzdata>=2022.7 in /Users/drweb/projects/mmir-unibasel/.venv/lib/python3.11/site-packages (from pandas->-r requirements.txt (line 3)) (2024.1)\n",
      "Requirement already satisfied: botocore<1.36.0,>=1.35.18 in /Users/drweb/projects/mmir-unibasel/.venv/lib/python3.11/site-packages (from boto3->-r requirements.txt (line 5)) (1.35.18)\n",
      "Requirement already satisfied: jmespath<2.0.0,>=0.7.1 in /Users/drweb/projects/mmir-unibasel/.venv/lib/python3.11/site-packages (from boto3->-r requirements.txt (line 5)) (1.0.1)\n",
      "Requirement already satisfied: s3transfer<0.11.0,>=0.10.0 in /Users/drweb/projects/mmir-unibasel/.venv/lib/python3.11/site-packages (from boto3->-r requirements.txt (line 5)) (0.10.2)\n",
      "Requirement already satisfied: scipy>=1.9 in /Users/drweb/projects/mmir-unibasel/.venv/lib/python3.11/site-packages (from scikit-image->-r requirements.txt (line 7)) (1.13.1)\n",
      "Requirement already satisfied: networkx>=2.8 in /Users/drweb/projects/mmir-unibasel/.venv/lib/python3.11/site-packages (from scikit-image->-r requirements.txt (line 7)) (3.3)\n",
      "Requirement already satisfied: pillow>=9.1 in /Users/drweb/projects/mmir-unibasel/.venv/lib/python3.11/site-packages (from scikit-image->-r requirements.txt (line 7)) (10.4.0)\n",
      "Requirement already satisfied: imageio>=2.33 in /Users/drweb/projects/mmir-unibasel/.venv/lib/python3.11/site-packages (from scikit-image->-r requirements.txt (line 7)) (2.35.1)\n",
      "Requirement already satisfied: tifffile>=2022.8.12 in /Users/drweb/projects/mmir-unibasel/.venv/lib/python3.11/site-packages (from scikit-image->-r requirements.txt (line 7)) (2024.8.30)\n",
      "Requirement already satisfied: packaging>=21 in /Users/drweb/projects/mmir-unibasel/.venv/lib/python3.11/site-packages (from scikit-image->-r requirements.txt (line 7)) (24.1)\n",
      "Requirement already satisfied: lazy-loader>=0.4 in /Users/drweb/projects/mmir-unibasel/.venv/lib/python3.11/site-packages (from scikit-image->-r requirements.txt (line 7)) (0.4)\n",
      "Requirement already satisfied: pyloco>=0.0.134 in /Users/drweb/projects/mmir-unibasel/.venv/lib/python3.11/site-packages (from matplot->-r requirements.txt (line 8)) (0.0.139)\n",
      "Requirement already satisfied: matplotlib>=3.1.1 in /Users/drweb/projects/mmir-unibasel/.venv/lib/python3.11/site-packages (from matplot->-r requirements.txt (line 8)) (3.9.2)\n",
      "Requirement already satisfied: urllib3!=2.2.0,<3,>=1.25.4 in /Users/drweb/projects/mmir-unibasel/.venv/lib/python3.11/site-packages (from botocore<1.36.0,>=1.35.18->boto3->-r requirements.txt (line 5)) (2.2.3)\n",
      "Requirement already satisfied: decorator in /Users/drweb/projects/mmir-unibasel/.venv/lib/python3.11/site-packages (from ipython>=6.1.0->ipywidgets->-r requirements.txt (line 2)) (5.1.1)\n",
      "Requirement already satisfied: jedi>=0.16 in /Users/drweb/projects/mmir-unibasel/.venv/lib/python3.11/site-packages (from ipython>=6.1.0->ipywidgets->-r requirements.txt (line 2)) (0.19.1)\n",
      "Requirement already satisfied: matplotlib-inline in /Users/drweb/projects/mmir-unibasel/.venv/lib/python3.11/site-packages (from ipython>=6.1.0->ipywidgets->-r requirements.txt (line 2)) (0.1.7)\n",
      "Requirement already satisfied: prompt-toolkit<3.1.0,>=3.0.41 in /Users/drweb/projects/mmir-unibasel/.venv/lib/python3.11/site-packages (from ipython>=6.1.0->ipywidgets->-r requirements.txt (line 2)) (3.0.47)\n",
      "Requirement already satisfied: pygments>=2.4.0 in /Users/drweb/projects/mmir-unibasel/.venv/lib/python3.11/site-packages (from ipython>=6.1.0->ipywidgets->-r requirements.txt (line 2)) (2.18.0)\n",
      "Requirement already satisfied: stack-data in /Users/drweb/projects/mmir-unibasel/.venv/lib/python3.11/site-packages (from ipython>=6.1.0->ipywidgets->-r requirements.txt (line 2)) (0.6.3)\n",
      "Requirement already satisfied: typing-extensions>=4.6 in /Users/drweb/projects/mmir-unibasel/.venv/lib/python3.11/site-packages (from ipython>=6.1.0->ipywidgets->-r requirements.txt (line 2)) (4.12.2)\n",
      "Requirement already satisfied: pexpect>4.3 in /Users/drweb/projects/mmir-unibasel/.venv/lib/python3.11/site-packages (from ipython>=6.1.0->ipywidgets->-r requirements.txt (line 2)) (4.9.0)\n",
      "Requirement already satisfied: contourpy>=1.0.1 in /Users/drweb/projects/mmir-unibasel/.venv/lib/python3.11/site-packages (from matplotlib>=3.1.1->matplot->-r requirements.txt (line 8)) (1.3.0)\n",
      "Requirement already satisfied: cycler>=0.10 in /Users/drweb/projects/mmir-unibasel/.venv/lib/python3.11/site-packages (from matplotlib>=3.1.1->matplot->-r requirements.txt (line 8)) (0.12.1)\n",
      "Requirement already satisfied: fonttools>=4.22.0 in /Users/drweb/projects/mmir-unibasel/.venv/lib/python3.11/site-packages (from matplotlib>=3.1.1->matplot->-r requirements.txt (line 8)) (4.53.1)\n",
      "Requirement already satisfied: kiwisolver>=1.3.1 in /Users/drweb/projects/mmir-unibasel/.venv/lib/python3.11/site-packages (from matplotlib>=3.1.1->matplot->-r requirements.txt (line 8)) (1.4.7)\n",
      "Requirement already satisfied: pyparsing>=2.3.1 in /Users/drweb/projects/mmir-unibasel/.venv/lib/python3.11/site-packages (from matplotlib>=3.1.1->matplot->-r requirements.txt (line 8)) (3.1.4)\n",
      "Requirement already satisfied: ushlex in /Users/drweb/projects/mmir-unibasel/.venv/lib/python3.11/site-packages (from pyloco>=0.0.134->matplot->-r requirements.txt (line 8)) (0.99.1)\n",
      "Requirement already satisfied: websocket-client in /Users/drweb/projects/mmir-unibasel/.venv/lib/python3.11/site-packages (from pyloco>=0.0.134->matplot->-r requirements.txt (line 8)) (1.8.0)\n",
      "Requirement already satisfied: twine in /Users/drweb/projects/mmir-unibasel/.venv/lib/python3.11/site-packages (from pyloco>=0.0.134->matplot->-r requirements.txt (line 8)) (5.1.1)\n",
      "Requirement already satisfied: typing in /Users/drweb/projects/mmir-unibasel/.venv/lib/python3.11/site-packages (from pyloco>=0.0.134->matplot->-r requirements.txt (line 8)) (3.7.4.3)\n",
      "Requirement already satisfied: SimpleWebSocketServer in /Users/drweb/projects/mmir-unibasel/.venv/lib/python3.11/site-packages (from pyloco>=0.0.134->matplot->-r requirements.txt (line 8)) (0.1.2)\n",
      "Requirement already satisfied: six>=1.5 in /Users/drweb/projects/mmir-unibasel/.venv/lib/python3.11/site-packages (from python-dateutil>=2.8.2->pandas->-r requirements.txt (line 3)) (1.16.0)\n",
      "Requirement already satisfied: parso<0.9.0,>=0.8.3 in /Users/drweb/projects/mmir-unibasel/.venv/lib/python3.11/site-packages (from jedi>=0.16->ipython>=6.1.0->ipywidgets->-r requirements.txt (line 2)) (0.8.4)\n",
      "Requirement already satisfied: ptyprocess>=0.5 in /Users/drweb/projects/mmir-unibasel/.venv/lib/python3.11/site-packages (from pexpect>4.3->ipython>=6.1.0->ipywidgets->-r requirements.txt (line 2)) (0.7.0)\n",
      "Requirement already satisfied: wcwidth in /Users/drweb/projects/mmir-unibasel/.venv/lib/python3.11/site-packages (from prompt-toolkit<3.1.0,>=3.0.41->ipython>=6.1.0->ipywidgets->-r requirements.txt (line 2)) (0.2.13)\n",
      "Requirement already satisfied: executing>=1.2.0 in /Users/drweb/projects/mmir-unibasel/.venv/lib/python3.11/site-packages (from stack-data->ipython>=6.1.0->ipywidgets->-r requirements.txt (line 2)) (2.1.0)\n",
      "Requirement already satisfied: asttokens>=2.1.0 in /Users/drweb/projects/mmir-unibasel/.venv/lib/python3.11/site-packages (from stack-data->ipython>=6.1.0->ipywidgets->-r requirements.txt (line 2)) (2.4.1)\n",
      "Requirement already satisfied: pure-eval in /Users/drweb/projects/mmir-unibasel/.venv/lib/python3.11/site-packages (from stack-data->ipython>=6.1.0->ipywidgets->-r requirements.txt (line 2)) (0.2.3)\n",
      "Requirement already satisfied: pkginfo>=1.8.1 in /Users/drweb/projects/mmir-unibasel/.venv/lib/python3.11/site-packages (from twine->pyloco>=0.0.134->matplot->-r requirements.txt (line 8)) (1.10.0)\n",
      "Requirement already satisfied: readme-renderer>=35.0 in /Users/drweb/projects/mmir-unibasel/.venv/lib/python3.11/site-packages (from twine->pyloco>=0.0.134->matplot->-r requirements.txt (line 8)) (44.0)\n",
      "Requirement already satisfied: requests>=2.20 in /Users/drweb/projects/mmir-unibasel/.venv/lib/python3.11/site-packages (from twine->pyloco>=0.0.134->matplot->-r requirements.txt (line 8)) (2.32.3)\n",
      "Requirement already satisfied: requests-toolbelt!=0.9.0,>=0.8.0 in /Users/drweb/projects/mmir-unibasel/.venv/lib/python3.11/site-packages (from twine->pyloco>=0.0.134->matplot->-r requirements.txt (line 8)) (1.0.0)\n",
      "Requirement already satisfied: importlib-metadata>=3.6 in /Users/drweb/projects/mmir-unibasel/.venv/lib/python3.11/site-packages (from twine->pyloco>=0.0.134->matplot->-r requirements.txt (line 8)) (8.5.0)\n",
      "Requirement already satisfied: keyring>=15.1 in /Users/drweb/projects/mmir-unibasel/.venv/lib/python3.11/site-packages (from twine->pyloco>=0.0.134->matplot->-r requirements.txt (line 8)) (25.3.0)\n",
      "Requirement already satisfied: rfc3986>=1.4.0 in /Users/drweb/projects/mmir-unibasel/.venv/lib/python3.11/site-packages (from twine->pyloco>=0.0.134->matplot->-r requirements.txt (line 8)) (2.0.0)\n",
      "Requirement already satisfied: rich>=12.0.0 in /Users/drweb/projects/mmir-unibasel/.venv/lib/python3.11/site-packages (from twine->pyloco>=0.0.134->matplot->-r requirements.txt (line 8)) (13.8.1)\n",
      "Requirement already satisfied: zipp>=3.20 in /Users/drweb/projects/mmir-unibasel/.venv/lib/python3.11/site-packages (from importlib-metadata>=3.6->twine->pyloco>=0.0.134->matplot->-r requirements.txt (line 8)) (3.20.1)\n",
      "Requirement already satisfied: jaraco.classes in /Users/drweb/projects/mmir-unibasel/.venv/lib/python3.11/site-packages (from keyring>=15.1->twine->pyloco>=0.0.134->matplot->-r requirements.txt (line 8)) (3.4.0)\n",
      "Requirement already satisfied: jaraco.functools in /Users/drweb/projects/mmir-unibasel/.venv/lib/python3.11/site-packages (from keyring>=15.1->twine->pyloco>=0.0.134->matplot->-r requirements.txt (line 8)) (4.0.2)\n",
      "Requirement already satisfied: jaraco.context in /Users/drweb/projects/mmir-unibasel/.venv/lib/python3.11/site-packages (from keyring>=15.1->twine->pyloco>=0.0.134->matplot->-r requirements.txt (line 8)) (6.0.1)\n",
      "Requirement already satisfied: nh3>=0.2.14 in /Users/drweb/projects/mmir-unibasel/.venv/lib/python3.11/site-packages (from readme-renderer>=35.0->twine->pyloco>=0.0.134->matplot->-r requirements.txt (line 8)) (0.2.18)\n",
      "Requirement already satisfied: docutils>=0.21.2 in /Users/drweb/projects/mmir-unibasel/.venv/lib/python3.11/site-packages (from readme-renderer>=35.0->twine->pyloco>=0.0.134->matplot->-r requirements.txt (line 8)) (0.21.2)\n",
      "Requirement already satisfied: charset-normalizer<4,>=2 in /Users/drweb/projects/mmir-unibasel/.venv/lib/python3.11/site-packages (from requests>=2.20->twine->pyloco>=0.0.134->matplot->-r requirements.txt (line 8)) (3.3.2)\n",
      "Requirement already satisfied: idna<4,>=2.5 in /Users/drweb/projects/mmir-unibasel/.venv/lib/python3.11/site-packages (from requests>=2.20->twine->pyloco>=0.0.134->matplot->-r requirements.txt (line 8)) (3.8)\n",
      "Requirement already satisfied: certifi>=2017.4.17 in /Users/drweb/projects/mmir-unibasel/.venv/lib/python3.11/site-packages (from requests>=2.20->twine->pyloco>=0.0.134->matplot->-r requirements.txt (line 8)) (2024.8.30)\n",
      "Requirement already satisfied: markdown-it-py>=2.2.0 in /Users/drweb/projects/mmir-unibasel/.venv/lib/python3.11/site-packages (from rich>=12.0.0->twine->pyloco>=0.0.134->matplot->-r requirements.txt (line 8)) (3.0.0)\n",
      "Requirement already satisfied: mdurl~=0.1 in /Users/drweb/projects/mmir-unibasel/.venv/lib/python3.11/site-packages (from markdown-it-py>=2.2.0->rich>=12.0.0->twine->pyloco>=0.0.134->matplot->-r requirements.txt (line 8)) (0.1.2)\n",
      "Requirement already satisfied: more-itertools in /Users/drweb/projects/mmir-unibasel/.venv/lib/python3.11/site-packages (from jaraco.classes->keyring>=15.1->twine->pyloco>=0.0.134->matplot->-r requirements.txt (line 8)) (10.5.0)\n",
      "Requirement already satisfied: backports.tarfile in /Users/drweb/projects/mmir-unibasel/.venv/lib/python3.11/site-packages (from jaraco.context->keyring>=15.1->twine->pyloco>=0.0.134->matplot->-r requirements.txt (line 8)) (1.2.0)\n",
      "Note: you may need to restart the kernel to use updated packages.\n"
     ]
    }
   ],
   "source": [
    "%pip install -r requirements.txt\n",
    "%load_ext autoreload\n",
    "%autoreload 2"
   ]
  },
  {
   "cell_type": "code",
   "execution_count": 3,
   "metadata": {},
   "outputs": [],
   "source": [
    "from helpers import print_table\n",
    "from boolean import BooleanRetriever\n",
    "from datasets import animals as collection\n",
    "from itertools import islice\n",
    "from ipywidgets import widgets"
   ]
  },
  {
   "cell_type": "markdown",
   "metadata": {},
   "source": [
    "## Animal data set"
   ]
  },
  {
   "cell_type": "code",
   "execution_count": 4,
   "metadata": {},
   "outputs": [
    {
     "data": {
      "text/markdown": [
       "|   id | text                                                                  |\n",
       "|-----:|:----------------------------------------------------------------------|\n",
       "|    1 | fish                                                                  |\n",
       "|    2 | dog dog dog horse horse horse lion lion lion lion bird bird bird bird |\n",
       "|    3 | bee bee fly                                                           |\n",
       "|    4 | dog dog ostrich ostrich ostrich ostrich ostrich                       |\n",
       "|    5 | bird bird bird donkey donkey donkey donkey donkey                     |\n",
       "|    6 | horse horse horse horse horse bird bird ant ant ant ant               |\n",
       "|    7 | snake snake snake snake                                               |\n",
       "|    8 | cat cat cat cat ostrich ostrich ostrich ostrich ostrich lion          |\n",
       "|    9 | tiger bee bee bee                                                     |\n",
       "|   10 | dog dog dog dog dog                                                   |"
      ],
      "text/plain": [
       "<IPython.core.display.Markdown object>"
      ]
     },
     "metadata": {},
     "output_type": "display_data"
    },
    {
     "data": {
      "text/markdown": [
       "| term    |   df | posting                                                                                                                 |\n",
       "|:--------|-----:|:------------------------------------------------------------------------------------------------------------------------|\n",
       "| dog     |   30 | {2, 4, 10, 11, 13, 19, 23, 29, 31, 36, 40, 41, 42, 47, 50, 52, 55, 59, 62, 67, 73, 75, 77, 78, 80, 81, 86, 91, 94, 100} |\n",
       "| cat     |   25 | {8, 13, 17, 21, 24, 28, 29, 34, 35, 37, 41, 45, 57, 62, 70, 72, 76, 77, 78, 79, 81, 83, 86, 94, 99}                     |\n",
       "| hors    |   22 | {2, 6, 16, 24, 28, 29, 33, 37, 42, 55, 63, 64, 65, 71, 72, 75, 80, 81, 90, 96, 98, 99}                                  |\n",
       "| rabit   |   20 | {25, 27, 33, 39, 41, 42, 46, 55, 61, 63, 64, 66, 73, 76, 77, 79, 81, 83, 87, 99}                                        |\n",
       "| ostrich |   18 | {64, 97, 4, 68, 71, 8, 40, 44, 13, 77, 80, 17, 18, 93, 22, 88, 60, 61}                                                  |\n",
       "| bear    |   17 | {32, 35, 100, 11, 44, 13, 76, 78, 17, 18, 21, 54, 85, 88, 58, 62, 31}                                                   |\n",
       "| tiger   |   15 | {66, 98, 39, 72, 9, 74, 75, 13, 14, 16, 95, 23, 61, 30, 63}                                                             |\n",
       "| bird    |   14 | {2, 5, 6, 40, 41, 91, 11, 76, 47, 24, 27, 28, 62, 63}                                                                   |\n",
       "| lion    |   14 | {33, 2, 65, 8, 42, 11, 78, 50, 54, 95, 27, 92, 94, 63}                                                                  |\n",
       "| donkey  |   13 | {67, 5, 71, 40, 75, 77, 14, 18, 50, 55, 28, 94, 95}                                                                     |\n",
       "| bee     |   12 | {65, 34, 3, 66, 68, 70, 40, 9, 14, 18, 54, 25}                                                                          |\n",
       "| ant     |   12 | {97, 36, 6, 76, 13, 15, 48, 86, 88, 58, 93, 62}                                                                         |\n",
       "| fish    |   11 | {1, 69, 38, 43, 12, 49, 82, 51, 53, 56, 89}                                                                             |\n",
       "| fli     |   11 | {3, 67, 16, 19, 83, 22, 55, 24, 25, 58, 27}                                                                             |\n",
       "| wale    |   11 | {96, 71, 74, 75, 76, 77, 84, 86, 23, 24, 62}                                                                            |\n",
       "| snake   |   10 | {7, 40, 59, 75, 15, 81, 20, 86, 26, 27}                                                                                 |"
      ],
      "text/plain": [
       "<IPython.core.display.Markdown object>"
      ]
     },
     "metadata": {},
     "output_type": "display_data"
    },
    {
     "name": "stdout",
     "output_type": "stream",
     "text": [
      "100 documents in collection\n",
      "16 distinct terms in collection\n",
      "255 postings\n"
     ]
    }
   ],
   "source": [
    "# load data set and index collection for boolean retrieval\n",
    "retriever = BooleanRetriever(collection.load())\n",
    "\n",
    "# show collection\n",
    "n, m = min(10, retriever.n_docs), min(20, retriever.n_terms)\n",
    "\n",
    "print_table([collection.format(doc) for doc in retriever.documents.values()], collection.headers(), max_rows = n)\n",
    "print_table(sorted([[term, df, retriever.index[term]] for term, df in retriever.vocabulary.items()], key=lambda x: -x[1]), ['term', 'df', 'posting'], max_rows=20)\n",
    "print(f'{retriever.n_docs} documents in collection')\n",
    "print(f'{retriever.n_terms} distinct terms in collection')\n",
    "print('{count} postings'.format(count=sum([len(postings) for postings in retriever.index.values()])))"
   ]
  },
  {
   "cell_type": "markdown",
   "metadata": {},
   "source": [
    "## Set operations to answer queries\n",
    "\n",
    "The next section demonstrates how to perform Boolean queries using the inverted index with set operations. \n",
    "\n",
    "| Boolean Operator | Set Operator for Postings |\n",
    "| :--- | :--- |\n",
    "| cat AND dog | `index['cat'] & index['dog']` |\n",
    "| cat OR dog | `index['cat'] \\| index['dog']` |\n",
    "| cat AND NOT dog | `index['cat'] - index['dog']` |\n",
    "\n",
    "Using these rules, we can evaluate a wide range of Boolean queries. However, there are some limitations:\n",
    "- It is inefficient to evaluate OR-queries when one sub-expression is of the form NOT(expr)\n",
    "- In AND-clauses, NOT(expr)-parts need to be re-ordered to the end to apply the `-` set operator. If all AND operators have NOT(expr)-parts, evaluation becomes inefficient\n",
    "- In both cases, the NOT(expr) part can be replaced with (ALL - expr), where ALL represents all documents\n",
    "\n",
    "Indeed, while these limitations may be viewed as constraints in our implementation, they have minimal impact on practical querying scenarios."
   ]
  },
  {
   "cell_type": "code",
   "execution_count": 6,
   "metadata": {},
   "outputs": [
    {
     "name": "stdout",
     "output_type": "stream",
     "text": [
      "cat: {8, 13, 17, 21, 24, 28, 29, 34, 35, 37, 41, 45, 57, 62, 70, 72, 76, 77, 78, 79, 81, 83, 86, 94, 99}\n",
      "dog: {2, 4, 10, 11, 13, 19, 23, 29, 31, 36, 40, 41, 42, 47, 50, 52, 55, 59, 62, 67, 73, 75, 77, 78, 80, 81, 86, 91, 94, 100}\n"
     ]
    }
   ],
   "source": [
    "# base sets\n",
    "all = retriever.all\n",
    "cat = retriever.index['cat']\n",
    "dog = retriever.index['dog']\n",
    "horse = retriever.index['horse']\n",
    "bird = retriever.index['bird']\n",
    "\n",
    "# cats and dogs\n",
    "print(f'cat: {cat}')\n",
    "print(f'dog: {dog}')"
   ]
  },
  {
   "cell_type": "code",
   "execution_count": 7,
   "metadata": {},
   "outputs": [
    {
     "name": "stdout",
     "output_type": "stream",
     "text": [
      "cat AND dog: {41, 77, 13, 78, 81, 86, 94, 29, 62}\n",
      "cat OR horse: {70, 8, 72, 76, 13, 77, 78, 79, 17, 81, 83, 21, 86, 24, 28, 29, 94, 34, 35, 99, 37, 41, 45, 57, 62}\n",
      "cat AND NOT horse: {34, 35, 99, 37, 70, 8, 72, 76, 45, 79, 17, 83, 21, 24, 57, 28}\n"
     ]
    }
   ],
   "source": [
    "# cat AND dog\n",
    "print(f'cat AND dog: {cat & dog}')\n",
    "\n",
    "# cat OR horse\n",
    "print(f'cat OR horse: {cat | horse}')\n",
    "\n",
    "# cat AND NOT(dog)\n",
    "print(f'cat AND NOT horse: {cat - dog}')"
   ]
  },
  {
   "cell_type": "code",
   "execution_count": null,
   "metadata": {},
   "outputs": [],
   "source": [
    "results = {\n",
    "    'cat': cat,\n",
    "    'dog': dog,\n",
    "    'horse': horse,\n",
    "    'bird': bird,\n",
    "    'NOT(dog)': all - dog,\n",
    "    'NOT(cat)': all - cat,\n",
    "    'NOT(cat) AND NOT(dog)': (all - dog) & (all - cat),\n",
    "    'cat OR NOT(dog)': cat | (all - dog), \n",
    "    'cat AND dog': cat & dog,\n",
    "    'cat OR dog': cat | dog,\n",
    "    'horse OR bird': horse | bird,\n",
    "    'cat AND NOT(dog)': cat - dog,\n",
    "    'horse AND cat AND NOT(bird)': horse & cat - bird,\n",
    "    'horse AND cat': horse & cat,\n",
    "    '(cat AND dog) OR (horse AND cat AND NOT(bird))': (cat & dog) | (horse & cat - bird),\n",
    "    'horse OR bird': horse | bird,\n",
    "    '(cat OR dog) AND (horse OR bird)': (cat | dog) & (horse | bird),\n",
    "    '(cat OR dog) AND NOT(horse OR bird)': (cat | dog) - (horse | bird)\n",
    "}\n",
    "\n",
    "queries = {\n",
    "    'cat AND dog': ['cat', 'dog', 'cat AND dog'],\n",
    "    'cat OR dog': ['cat', 'dog', 'cat OR dog'],\n",
    "    'horse OR bird': ['horse', 'bird', 'horse OR bird'],\n",
    "    'cat AND NOT(dog)': ['cat', 'dog', 'NOT(dog)', 'cat AND NOT(dog)'],\n",
    "    'cat OR NOT(dog)': ['cat', 'dog', 'NOT(dog)', 'cat OR NOT(dog)'],\n",
    "    'NOT(cat) AND NOT(dog)': ['cat', 'dog', 'NOT(cat)', 'NOT(dog)', 'NOT(cat) AND NOT(dog)'],\n",
    "    'horse AND cat AND NOT(bird)': ['horse', 'cat', 'bird', 'horse AND cat', 'horse AND cat AND NOT(bird)'],\n",
    "    '(cat AND dog) OR (horse AND cat AND NOT(bird))': ['cat', 'dog', 'horse', 'bird', 'cat AND dog', 'horse AND cat', 'horse AND cat AND NOT(bird)', '(cat AND dog) OR (horse AND cat AND NOT(bird))'],\n",
    "    '(cat OR dog) AND (horse OR bird)': ['cat', 'dog', 'cat OR dog', 'horse OR bird', '(cat OR dog) AND (horse OR bird)'],\n",
    "    '(cat OR dog) AND NOT(horse OR bird)': ['cat', 'dog', 'cat OR dog', 'horse OR bird', '(cat OR dog) AND NOT(horse OR bird)']    \n",
    "}\n",
    "\n",
    "def search_boolean_set(query: str):\n",
    "    print_table([[q, sorted(results[q])] for q in queries[query]], ['query', 'result'], format=\"text\")\n",
    "\n",
    "# interactive selection of scenario\n",
    "widgets.interact(search_boolean_set, \n",
    "    query=widgets.Dropdown(options=list(queries.keys())), \n",
    ");"
   ]
  },
  {
   "cell_type": "markdown",
   "metadata": {},
   "source": [
    "## Stream operations to answer queries\n",
    "\n",
    "The set-based evaluation from above does not scale well with the number of documents. In cases with millions of billions of postings for a term, we want to fetch data from an external storage device (which is also a good idea for persistence). But instead of reading all postings into main memory, we read them as streams sorted by the document IDs. Take the postings of cat and dog as an example:\n",
    "\n",
    "| term | postings|\n",
    "| :-- | :-- |\n",
    "| cat | `[1, 4, 8, 10]` |\n",
    "| dog | `[3, 4, 10, 12]` |"
   ]
  },
  {
   "cell_type": "markdown",
   "metadata": {},
   "source": [
    "### A representation for Boolean expressions\n",
    "Next, we build a representation for Boolean expressions that allows us to retrieve arbitrary queries. Each object in the representation relates to a sub-expression in the query that is evaluated in a stream-based manner. By composition, we can aggregate atomic queries over terms to arbitrarily complex Boolean queries. We introduce a class ``Term`` to denote atomic queries, 2 classes ``And`` and ``Or`` that represent the boolean operators with an arbitrary number of operands (which can be of type ``Term``, ``And``, and ``Or``). Finally, we also define a class ``Not`` that acts on a single sub-expression (again of any sub-type). However, we do not allow nesting of ``Not``, and only ``And`` expression can have a sub-expression with ``Not`` (and must have at leas one subexpression without ``Not``). Our implentation of ``Not`` is to mark sub-expression, but the class has no way to evaluate itself."
   ]
  },
  {
   "cell_type": "code",
   "execution_count": null,
   "metadata": {},
   "outputs": [],
   "source": [
    "class BooleanExpression:\n",
    "    pass\n",
    "\n",
    "# ------------------------------\n",
    "\n",
    "class Term(BooleanExpression):\n",
    "    \"\"\"\n",
    "        Boolean expression class for atomic term queries. For simplicity, we\n",
    "        have all postings in memory but in real implementations, we would\n",
    "        fetch the data from a file or database\n",
    "    \"\"\"\n",
    "    def __init__(self, term: str, postings: list[int]):\n",
    "        self.term = term\n",
    "        self.postings = sorted(postings)\n",
    "\n",
    "    def __iter__(self):\n",
    "        return self.retrieve()\n",
    "    \n",
    "    # we used this flag to monitor which postings we fetch\n",
    "    LOG_ACCESS = False\n",
    "\n",
    "    def retrieve(self):\n",
    "        for posting in self.postings:\n",
    "            if Term.LOG_ACCESS: print(f'{self.term}: {posting}')\n",
    "            yield posting\n",
    "\n",
    "# ------------------------------\n",
    "\n",
    "class Not(BooleanExpression):\n",
    "    \"\"\"\n",
    "        Marker class for NOT operator on sub-expression. The retrieve method raises an exception.\n",
    "        When used during AND operation, the retrieve method of the sub-expression is called.\n",
    "    \"\"\"\n",
    "    def __init__(self, expression):\n",
    "        self.expression = expression\n",
    "    \n",
    "    def __iter__(self):\n",
    "        return self.retrieve()\n",
    "\n",
    "    def retrieve(self):\n",
    "        raise Exception(\"NOT operator not allowed at top-level of query\")"
   ]
  },
  {
   "cell_type": "markdown",
   "metadata": {},
   "source": [
    "### Evaluation of: cat AND dog\n",
    "To evaluate a query like \"cat AND dog\", we fetch the first entry for each term, that is `1` for cat and `3` for dog. If they are the same, we know that the corresponding document fulfills the predicate. If not, then we read the next entry for the term currently having the smallest doc ID. In our example, we read the next cat posting which is `4`. Again, we have no match, so we progress now postings of dog as it currently has the smallest value. The next posting for dog is `4` which matches with the one of cat; hence, we found our first document and return it (in Python we use generators with `yield` as we also do not want to return all results at once but in batches as the user browses through pages). If we need more results to return, we now fetch the next posting for both terms and repeat. Finally, we find `10` and return it as a second answer. If we need more results, we again fetch the next posting for both terms. But since cat does not have more postings, we can terminate the evaluation and stop iteration (dog still has `12` but we already know from the empty cat postings that it cannot match the query). The following visualizes the approach:\n",
    "\n",
    "|step|cat (next) |dog (next) | action|\n",
    "|:-- |:-- |:-- |:-- |\n",
    "| 1 | `1` | `3` | no match, progress cat |\n",
    "| 2 | `4` | `3` | no match, progress dog |\n",
    "| 3 | `4` | `4` | match, return `4` as result, wait to provide next result, and progress both cat and dog |\n",
    "| 4 | `8` | `10` | no match, progress cat |\n",
    "| 5 | `10` | `10` | match, return `10` as result, wait to provide next result, and progress both cat and dog |\n",
    "| 6 | - | `12` | stop iteration as all cat postings are visited; remaining postings in dog cannot fulfill predicate |"
   ]
  },
  {
   "cell_type": "markdown",
   "metadata": {},
   "source": [
    "### Eavluation of: cat AND NOT(dog)\n",
    "The \"cat AND NOT(dog)\" evaluation progress is the same as with the AND flow but results are different (match if cat != dog):\n",
    "\n",
    "|step|cat (next) |dog (next) | action|\n",
    "|:-- |:-- |:-- |:-- |\n",
    "| 1 | `1` | `3` | match, return `1` as result, wait to provide next result, and progress cat |\n",
    "| 2 | `4` | `3` | match but cat is not smallest, so we progress dog |\n",
    "| 3 | `4` | `4` | no match as both have the same value, so we progress both cat and dog |\n",
    "| 4 | `8` | `10` | no match, return `8` as result, wait to provide next result, and progress cat  |\n",
    "| 5 | `10` | `10` | no match as both have the same value, so we progress both cat and dog |\n",
    "| 6 | - | `12` | stop iteration as all cat postings are visited; remaining postings in dog cannot fulfill predicate |\n",
    "\n",
    "Finally, we can apply the same approach for arbitrary nesting of AND and OR operators since each evaluation scheme above yields document IDs again in a sorted manner. As with atomic term queries, we can only support NOT operators if they are part of an AND expression which at least has one sub-expression without a NOT at the top-level (a nested NOT deeper in the sub-expression is not a problem)."
   ]
  },
  {
   "cell_type": "code",
   "execution_count": null,
   "metadata": {},
   "outputs": [],
   "source": [
    "class And(BooleanExpression):\n",
    "    \"\"\"\n",
    "        AND-expression with multiple sub-expressions. This operator can handle NOT(expr)-type \n",
    "        subexpressions and implements the correct '-' semantics of \"cat AND NOT dog\".\n",
    "    \"\"\"\n",
    "    def __init__(self, *expressions):\n",
    "        self.expressions = expressions\n",
    "\n",
    "        # select expressison that are not Term or that have x._not = False\n",
    "        self.pos = [e for e in expressions if not isinstance(e, Not)]\n",
    "        self.neg = [e for e in expressions if isinstance(e, Not)]\n",
    "\n",
    "    def __iter__(self):\n",
    "        return self.retrieve()\n",
    "\n",
    "    def retrieve(self):\n",
    "        # streams for sub expressions without NOT\n",
    "        # pos_iters contains the iterators for each sub expression\n",
    "        # pos_nexts contains the next posting for each sub expression\n",
    "        pos_iters = [iter(e) for e in self.pos]\n",
    "        pos_nexts = [next(e) for e in pos_iters]\n",
    "\n",
    "        # stream for sub expressions with NOT\n",
    "        # neg_iters contains the iterators for each sub expression\n",
    "        # neg_nexts contains the next posting for each sub expression\n",
    "        neg_iters = [iter(e.expression) for e in self.neg]\n",
    "        neg_nexts = [next(e, None) for e in neg_iters]\n",
    "\n",
    "        # iterate until one pos_nexts element is None\n",
    "        while None not in pos_nexts:\n",
    "            # get smallest value from pos_nexts and neg_nexts, ignoring None values in neg_nexts\n",
    "            smallest = min(pos_nexts + neg_nexts, key=lambda x: x if x is not None else float('inf'))\n",
    "\n",
    "            # check if all entries of pos_nexts equal smallest, and no entry in neg_nexts equals smallest\n",
    "            if all(e is smallest for e in pos_nexts) and smallest not in neg_nexts:\n",
    "                yield smallest\n",
    "            \n",
    "            # for each entry in pos_nexts and neg_nexts, fetch next item if entry equals smallest\n",
    "            for i, e in enumerate(pos_nexts):\n",
    "                if e is smallest:\n",
    "                    pos_nexts[i] = next(pos_iters[i], None)\n",
    "            for i, e in enumerate(neg_nexts):\n",
    "                if e is smallest:\n",
    "                    neg_nexts[i] = next(neg_iters[i], None)"
   ]
  },
  {
   "cell_type": "markdown",
   "metadata": {},
   "source": [
    "### Evaluation of: cat OR dog\n",
    "\n",
    "| term | postings|\n",
    "| :-- | :-- |\n",
    "| cat | `[1, 4, 8, 10]` |\n",
    "| dog | `[3, 4, 10, 12]` |\n",
    "\n",
    "The OR-operator is implemented similarly, but the iteration returns every time the smallest entry from a sub-expression. For the example above, the OR-operator would first return `1`, progress cat, return `3`, progress dog, return `4`, progress both cat and dog, return `8`, progress cat, return `10`, progress both cat and dog, and finally return `12`. The evaluation stops when all postings are consumed."
   ]
  },
  {
   "cell_type": "code",
   "execution_count": null,
   "metadata": {},
   "outputs": [],
   "source": [
    "class Or(BooleanExpression):\n",
    "    \"\"\"\n",
    "        OR-expression with multiple sub-expressions. This operator cannot handle NOT(expr)-type subexpressions\n",
    "    \"\"\"\n",
    "    def __init__(self, *expressions):\n",
    "        # check that there are no NOT(expr)-type subexpressions\n",
    "        if any(isinstance(e, Not) for e in expressions):\n",
    "            raise Exception(\"OR-expression cannot handle NOT(expr)-type subexpressions\")\n",
    "        self.expressions = expressions\n",
    "    \n",
    "    def __iter__(self):\n",
    "        return self.retrieve()\n",
    "\n",
    "    def retrieve(self):\n",
    "        iters = [iter(e) for e in self.expressions]\n",
    "        nexts = [next(e, None) for e in iters]\n",
    "\n",
    "        while not all(e is None for e in nexts):\n",
    "            # get smallest value from nexts, ignoring None values\n",
    "            smallest = min(nexts, key=lambda x: x if x is not None else float('inf'))\n",
    "            yield smallest\n",
    "            \n",
    "            # for each entry in nexts, fetch next item if entry equals smallest\n",
    "            for i, e in enumerate(nexts):\n",
    "                if e is smallest:\n",
    "                    nexts[i] = next(iters[i], None)"
   ]
  },
  {
   "cell_type": "code",
   "execution_count": null,
   "metadata": {},
   "outputs": [],
   "source": [
    "retriever = BooleanRetriever(collection.load())\n",
    "\n",
    "queries = {\n",
    "    'cat AND dog': ['cat', 'dog', 'cat AND dog'],\n",
    "    'cat OR dog': ['cat', 'dog', 'cat OR dog'],\n",
    "    'horse OR bird': ['horse', 'bird', 'horse OR bird'],\n",
    "    'cat AND NOT(dog)': ['cat', 'dog', 'cat AND NOT(dog)'],\n",
    "    'horse AND cat AND NOT(bird)': ['horse', 'cat', 'bird', 'horse AND cat', 'horse AND cat AND NOT(bird)'],\n",
    "    '(cat AND dog) OR (horse AND cat AND NOT(bird))': ['cat', 'dog', 'horse', 'bird', 'cat AND dog', 'horse AND cat', 'horse AND cat AND NOT(bird)', '(cat AND dog) OR (horse AND cat AND NOT(bird))'],\n",
    "    '(cat OR dog) AND (horse OR bird)': ['cat', 'dog', 'cat OR dog', 'horse OR bird', '(cat OR dog) AND (horse OR bird)'],\n",
    "    '(cat OR dog) AND NOT(horse OR bird)': ['cat', 'dog', 'cat OR dog', 'horse OR bird', '(cat OR dog) AND NOT(horse OR bird)']    \n",
    "}\n",
    "\n",
    "def search_boolean_stream(query: str):\n",
    "    print_table([[q, list(retriever.search(q))] for q in queries[query]], ['query', 'result'], format=\"text\")\n",
    "\n",
    "# interactive selection of scenario\n",
    "widgets.interact(search_boolean_stream, \n",
    "    query=widgets.Dropdown(options=list(queries.keys())), \n",
    ");"
   ]
  },
  {
   "cell_type": "code",
   "execution_count": null,
   "metadata": {},
   "outputs": [],
   "source": [
    "query = \"cat AND dog\"\n",
    "# query = \"(cat OR dog) AND NOT(horse OR bird)\"\n",
    "\n",
    "result = retriever.search(query, logging = True)\n",
    "print(f\"retrieving first 2 documents for {query}\")\n",
    "print(list(islice(result, 2)))\n",
    "\n",
    "print(\"\\nretrieving next 2 documents\")\n",
    "print(list(islice(result, 2)))"
   ]
  },
  {
   "cell_type": "code",
   "execution_count": null,
   "metadata": {},
   "outputs": [],
   "source": []
  }
 ],
 "metadata": {
  "kernelspec": {
   "display_name": ".venv",
   "language": "python",
   "name": "python3"
  },
  "language_info": {
   "codemirror_mode": {
    "name": "ipython",
    "version": 3
   },
   "file_extension": ".py",
   "mimetype": "text/x-python",
   "name": "python",
   "nbconvert_exporter": "python",
   "pygments_lexer": "ipython3",
   "version": "3.11.8"
  }
 },
 "nbformat": 4,
 "nbformat_minor": 2
}
