{
 "cells": [
  {
   "cell_type": "markdown",
   "metadata": {},
   "source": [
    "# Boolean Retrieval"
   ]
  },
  {
   "cell_type": "code",
   "execution_count": 1,
   "metadata": {},
   "outputs": [
    {
     "name": "stdout",
     "output_type": "stream",
     "text": [
      "Requirement already satisfied: tabulate in /Users/drweb/projects/mmir-unibasel/.venv/lib/python3.11/site-packages (from -r requirements.txt (line 1)) (0.9.0)\n",
      "Requirement already satisfied: ipywidgets in /Users/drweb/projects/mmir-unibasel/.venv/lib/python3.11/site-packages (from -r requirements.txt (line 2)) (8.1.5)\n",
      "Requirement already satisfied: pandas in /Users/drweb/projects/mmir-unibasel/.venv/lib/python3.11/site-packages (from -r requirements.txt (line 3)) (2.2.2)\n",
      "Requirement already satisfied: numpy in /Users/drweb/projects/mmir-unibasel/.venv/lib/python3.11/site-packages (from -r requirements.txt (line 4)) (1.26.4)\n",
      "Requirement already satisfied: boto3 in /Users/drweb/projects/mmir-unibasel/.venv/lib/python3.11/site-packages (from -r requirements.txt (line 5)) (1.35.18)\n",
      "Requirement already satisfied: opencv-python in /Users/drweb/projects/mmir-unibasel/.venv/lib/python3.11/site-packages (from -r requirements.txt (line 6)) (4.10.0.84)\n",
      "Requirement already satisfied: scikit-image in /Users/drweb/projects/mmir-unibasel/.venv/lib/python3.11/site-packages (from -r requirements.txt (line 7)) (0.24.0)\n",
      "Requirement already satisfied: matplot in /Users/drweb/projects/mmir-unibasel/.venv/lib/python3.11/site-packages (from -r requirements.txt (line 8)) (0.1.9)\n",
      "Requirement already satisfied: PyPDF2 in /Users/drweb/projects/mmir-unibasel/.venv/lib/python3.11/site-packages (from -r requirements.txt (line 9)) (3.0.1)\n",
      "Requirement already satisfied: unidecode in /Users/drweb/projects/mmir-unibasel/.venv/lib/python3.11/site-packages (from -r requirements.txt (line 10)) (1.3.8)\n",
      "Requirement already satisfied: comm>=0.1.3 in /Users/drweb/projects/mmir-unibasel/.venv/lib/python3.11/site-packages (from ipywidgets->-r requirements.txt (line 2)) (0.2.2)\n",
      "Requirement already satisfied: ipython>=6.1.0 in /Users/drweb/projects/mmir-unibasel/.venv/lib/python3.11/site-packages (from ipywidgets->-r requirements.txt (line 2)) (8.27.0)\n",
      "Requirement already satisfied: traitlets>=4.3.1 in /Users/drweb/projects/mmir-unibasel/.venv/lib/python3.11/site-packages (from ipywidgets->-r requirements.txt (line 2)) (5.14.3)\n",
      "Requirement already satisfied: widgetsnbextension~=4.0.12 in /Users/drweb/projects/mmir-unibasel/.venv/lib/python3.11/site-packages (from ipywidgets->-r requirements.txt (line 2)) (4.0.13)\n",
      "Requirement already satisfied: jupyterlab-widgets~=3.0.12 in /Users/drweb/projects/mmir-unibasel/.venv/lib/python3.11/site-packages (from ipywidgets->-r requirements.txt (line 2)) (3.0.13)\n",
      "Requirement already satisfied: python-dateutil>=2.8.2 in /Users/drweb/projects/mmir-unibasel/.venv/lib/python3.11/site-packages (from pandas->-r requirements.txt (line 3)) (2.9.0.post0)\n",
      "Requirement already satisfied: pytz>=2020.1 in /Users/drweb/projects/mmir-unibasel/.venv/lib/python3.11/site-packages (from pandas->-r requirements.txt (line 3)) (2024.2)\n",
      "Requirement already satisfied: tzdata>=2022.7 in /Users/drweb/projects/mmir-unibasel/.venv/lib/python3.11/site-packages (from pandas->-r requirements.txt (line 3)) (2024.1)\n",
      "Requirement already satisfied: botocore<1.36.0,>=1.35.18 in /Users/drweb/projects/mmir-unibasel/.venv/lib/python3.11/site-packages (from boto3->-r requirements.txt (line 5)) (1.35.18)\n",
      "Requirement already satisfied: jmespath<2.0.0,>=0.7.1 in /Users/drweb/projects/mmir-unibasel/.venv/lib/python3.11/site-packages (from boto3->-r requirements.txt (line 5)) (1.0.1)\n",
      "Requirement already satisfied: s3transfer<0.11.0,>=0.10.0 in /Users/drweb/projects/mmir-unibasel/.venv/lib/python3.11/site-packages (from boto3->-r requirements.txt (line 5)) (0.10.2)\n",
      "Requirement already satisfied: scipy>=1.9 in /Users/drweb/projects/mmir-unibasel/.venv/lib/python3.11/site-packages (from scikit-image->-r requirements.txt (line 7)) (1.13.1)\n",
      "Requirement already satisfied: networkx>=2.8 in /Users/drweb/projects/mmir-unibasel/.venv/lib/python3.11/site-packages (from scikit-image->-r requirements.txt (line 7)) (3.3)\n",
      "Requirement already satisfied: pillow>=9.1 in /Users/drweb/projects/mmir-unibasel/.venv/lib/python3.11/site-packages (from scikit-image->-r requirements.txt (line 7)) (10.4.0)\n",
      "Requirement already satisfied: imageio>=2.33 in /Users/drweb/projects/mmir-unibasel/.venv/lib/python3.11/site-packages (from scikit-image->-r requirements.txt (line 7)) (2.35.1)\n",
      "Requirement already satisfied: tifffile>=2022.8.12 in /Users/drweb/projects/mmir-unibasel/.venv/lib/python3.11/site-packages (from scikit-image->-r requirements.txt (line 7)) (2024.8.30)\n",
      "Requirement already satisfied: packaging>=21 in /Users/drweb/projects/mmir-unibasel/.venv/lib/python3.11/site-packages (from scikit-image->-r requirements.txt (line 7)) (24.1)\n",
      "Requirement already satisfied: lazy-loader>=0.4 in /Users/drweb/projects/mmir-unibasel/.venv/lib/python3.11/site-packages (from scikit-image->-r requirements.txt (line 7)) (0.4)\n",
      "Requirement already satisfied: pyloco>=0.0.134 in /Users/drweb/projects/mmir-unibasel/.venv/lib/python3.11/site-packages (from matplot->-r requirements.txt (line 8)) (0.0.139)\n",
      "Requirement already satisfied: matplotlib>=3.1.1 in /Users/drweb/projects/mmir-unibasel/.venv/lib/python3.11/site-packages (from matplot->-r requirements.txt (line 8)) (3.9.2)\n",
      "Requirement already satisfied: urllib3!=2.2.0,<3,>=1.25.4 in /Users/drweb/projects/mmir-unibasel/.venv/lib/python3.11/site-packages (from botocore<1.36.0,>=1.35.18->boto3->-r requirements.txt (line 5)) (2.2.3)\n",
      "Requirement already satisfied: decorator in /Users/drweb/projects/mmir-unibasel/.venv/lib/python3.11/site-packages (from ipython>=6.1.0->ipywidgets->-r requirements.txt (line 2)) (5.1.1)\n",
      "Requirement already satisfied: jedi>=0.16 in /Users/drweb/projects/mmir-unibasel/.venv/lib/python3.11/site-packages (from ipython>=6.1.0->ipywidgets->-r requirements.txt (line 2)) (0.19.1)\n",
      "Requirement already satisfied: matplotlib-inline in /Users/drweb/projects/mmir-unibasel/.venv/lib/python3.11/site-packages (from ipython>=6.1.0->ipywidgets->-r requirements.txt (line 2)) (0.1.7)\n",
      "Requirement already satisfied: prompt-toolkit<3.1.0,>=3.0.41 in /Users/drweb/projects/mmir-unibasel/.venv/lib/python3.11/site-packages (from ipython>=6.1.0->ipywidgets->-r requirements.txt (line 2)) (3.0.47)\n",
      "Requirement already satisfied: pygments>=2.4.0 in /Users/drweb/projects/mmir-unibasel/.venv/lib/python3.11/site-packages (from ipython>=6.1.0->ipywidgets->-r requirements.txt (line 2)) (2.18.0)\n",
      "Requirement already satisfied: stack-data in /Users/drweb/projects/mmir-unibasel/.venv/lib/python3.11/site-packages (from ipython>=6.1.0->ipywidgets->-r requirements.txt (line 2)) (0.6.3)\n",
      "Requirement already satisfied: typing-extensions>=4.6 in /Users/drweb/projects/mmir-unibasel/.venv/lib/python3.11/site-packages (from ipython>=6.1.0->ipywidgets->-r requirements.txt (line 2)) (4.12.2)\n",
      "Requirement already satisfied: pexpect>4.3 in /Users/drweb/projects/mmir-unibasel/.venv/lib/python3.11/site-packages (from ipython>=6.1.0->ipywidgets->-r requirements.txt (line 2)) (4.9.0)\n",
      "Requirement already satisfied: contourpy>=1.0.1 in /Users/drweb/projects/mmir-unibasel/.venv/lib/python3.11/site-packages (from matplotlib>=3.1.1->matplot->-r requirements.txt (line 8)) (1.3.0)\n",
      "Requirement already satisfied: cycler>=0.10 in /Users/drweb/projects/mmir-unibasel/.venv/lib/python3.11/site-packages (from matplotlib>=3.1.1->matplot->-r requirements.txt (line 8)) (0.12.1)\n",
      "Requirement already satisfied: fonttools>=4.22.0 in /Users/drweb/projects/mmir-unibasel/.venv/lib/python3.11/site-packages (from matplotlib>=3.1.1->matplot->-r requirements.txt (line 8)) (4.53.1)\n",
      "Requirement already satisfied: kiwisolver>=1.3.1 in /Users/drweb/projects/mmir-unibasel/.venv/lib/python3.11/site-packages (from matplotlib>=3.1.1->matplot->-r requirements.txt (line 8)) (1.4.7)\n",
      "Requirement already satisfied: pyparsing>=2.3.1 in /Users/drweb/projects/mmir-unibasel/.venv/lib/python3.11/site-packages (from matplotlib>=3.1.1->matplot->-r requirements.txt (line 8)) (3.1.4)\n",
      "Requirement already satisfied: ushlex in /Users/drweb/projects/mmir-unibasel/.venv/lib/python3.11/site-packages (from pyloco>=0.0.134->matplot->-r requirements.txt (line 8)) (0.99.1)\n",
      "Requirement already satisfied: websocket-client in /Users/drweb/projects/mmir-unibasel/.venv/lib/python3.11/site-packages (from pyloco>=0.0.134->matplot->-r requirements.txt (line 8)) (1.8.0)\n",
      "Requirement already satisfied: twine in /Users/drweb/projects/mmir-unibasel/.venv/lib/python3.11/site-packages (from pyloco>=0.0.134->matplot->-r requirements.txt (line 8)) (5.1.1)\n",
      "Requirement already satisfied: typing in /Users/drweb/projects/mmir-unibasel/.venv/lib/python3.11/site-packages (from pyloco>=0.0.134->matplot->-r requirements.txt (line 8)) (3.7.4.3)\n",
      "Requirement already satisfied: SimpleWebSocketServer in /Users/drweb/projects/mmir-unibasel/.venv/lib/python3.11/site-packages (from pyloco>=0.0.134->matplot->-r requirements.txt (line 8)) (0.1.2)\n",
      "Requirement already satisfied: six>=1.5 in /Users/drweb/projects/mmir-unibasel/.venv/lib/python3.11/site-packages (from python-dateutil>=2.8.2->pandas->-r requirements.txt (line 3)) (1.16.0)\n",
      "Requirement already satisfied: parso<0.9.0,>=0.8.3 in /Users/drweb/projects/mmir-unibasel/.venv/lib/python3.11/site-packages (from jedi>=0.16->ipython>=6.1.0->ipywidgets->-r requirements.txt (line 2)) (0.8.4)\n",
      "Requirement already satisfied: ptyprocess>=0.5 in /Users/drweb/projects/mmir-unibasel/.venv/lib/python3.11/site-packages (from pexpect>4.3->ipython>=6.1.0->ipywidgets->-r requirements.txt (line 2)) (0.7.0)\n",
      "Requirement already satisfied: wcwidth in /Users/drweb/projects/mmir-unibasel/.venv/lib/python3.11/site-packages (from prompt-toolkit<3.1.0,>=3.0.41->ipython>=6.1.0->ipywidgets->-r requirements.txt (line 2)) (0.2.13)\n",
      "Requirement already satisfied: executing>=1.2.0 in /Users/drweb/projects/mmir-unibasel/.venv/lib/python3.11/site-packages (from stack-data->ipython>=6.1.0->ipywidgets->-r requirements.txt (line 2)) (2.1.0)\n",
      "Requirement already satisfied: asttokens>=2.1.0 in /Users/drweb/projects/mmir-unibasel/.venv/lib/python3.11/site-packages (from stack-data->ipython>=6.1.0->ipywidgets->-r requirements.txt (line 2)) (2.4.1)\n",
      "Requirement already satisfied: pure-eval in /Users/drweb/projects/mmir-unibasel/.venv/lib/python3.11/site-packages (from stack-data->ipython>=6.1.0->ipywidgets->-r requirements.txt (line 2)) (0.2.3)\n",
      "Requirement already satisfied: pkginfo>=1.8.1 in /Users/drweb/projects/mmir-unibasel/.venv/lib/python3.11/site-packages (from twine->pyloco>=0.0.134->matplot->-r requirements.txt (line 8)) (1.10.0)\n",
      "Requirement already satisfied: readme-renderer>=35.0 in /Users/drweb/projects/mmir-unibasel/.venv/lib/python3.11/site-packages (from twine->pyloco>=0.0.134->matplot->-r requirements.txt (line 8)) (44.0)\n",
      "Requirement already satisfied: requests>=2.20 in /Users/drweb/projects/mmir-unibasel/.venv/lib/python3.11/site-packages (from twine->pyloco>=0.0.134->matplot->-r requirements.txt (line 8)) (2.32.3)\n",
      "Requirement already satisfied: requests-toolbelt!=0.9.0,>=0.8.0 in /Users/drweb/projects/mmir-unibasel/.venv/lib/python3.11/site-packages (from twine->pyloco>=0.0.134->matplot->-r requirements.txt (line 8)) (1.0.0)\n",
      "Requirement already satisfied: importlib-metadata>=3.6 in /Users/drweb/projects/mmir-unibasel/.venv/lib/python3.11/site-packages (from twine->pyloco>=0.0.134->matplot->-r requirements.txt (line 8)) (8.5.0)\n",
      "Requirement already satisfied: keyring>=15.1 in /Users/drweb/projects/mmir-unibasel/.venv/lib/python3.11/site-packages (from twine->pyloco>=0.0.134->matplot->-r requirements.txt (line 8)) (25.3.0)\n",
      "Requirement already satisfied: rfc3986>=1.4.0 in /Users/drweb/projects/mmir-unibasel/.venv/lib/python3.11/site-packages (from twine->pyloco>=0.0.134->matplot->-r requirements.txt (line 8)) (2.0.0)\n",
      "Requirement already satisfied: rich>=12.0.0 in /Users/drweb/projects/mmir-unibasel/.venv/lib/python3.11/site-packages (from twine->pyloco>=0.0.134->matplot->-r requirements.txt (line 8)) (13.8.1)\n",
      "Requirement already satisfied: zipp>=3.20 in /Users/drweb/projects/mmir-unibasel/.venv/lib/python3.11/site-packages (from importlib-metadata>=3.6->twine->pyloco>=0.0.134->matplot->-r requirements.txt (line 8)) (3.20.1)\n",
      "Requirement already satisfied: jaraco.classes in /Users/drweb/projects/mmir-unibasel/.venv/lib/python3.11/site-packages (from keyring>=15.1->twine->pyloco>=0.0.134->matplot->-r requirements.txt (line 8)) (3.4.0)\n",
      "Requirement already satisfied: jaraco.functools in /Users/drweb/projects/mmir-unibasel/.venv/lib/python3.11/site-packages (from keyring>=15.1->twine->pyloco>=0.0.134->matplot->-r requirements.txt (line 8)) (4.0.2)\n",
      "Requirement already satisfied: jaraco.context in /Users/drweb/projects/mmir-unibasel/.venv/lib/python3.11/site-packages (from keyring>=15.1->twine->pyloco>=0.0.134->matplot->-r requirements.txt (line 8)) (6.0.1)\n",
      "Requirement already satisfied: nh3>=0.2.14 in /Users/drweb/projects/mmir-unibasel/.venv/lib/python3.11/site-packages (from readme-renderer>=35.0->twine->pyloco>=0.0.134->matplot->-r requirements.txt (line 8)) (0.2.18)\n",
      "Requirement already satisfied: docutils>=0.21.2 in /Users/drweb/projects/mmir-unibasel/.venv/lib/python3.11/site-packages (from readme-renderer>=35.0->twine->pyloco>=0.0.134->matplot->-r requirements.txt (line 8)) (0.21.2)\n",
      "Requirement already satisfied: charset-normalizer<4,>=2 in /Users/drweb/projects/mmir-unibasel/.venv/lib/python3.11/site-packages (from requests>=2.20->twine->pyloco>=0.0.134->matplot->-r requirements.txt (line 8)) (3.3.2)\n",
      "Requirement already satisfied: idna<4,>=2.5 in /Users/drweb/projects/mmir-unibasel/.venv/lib/python3.11/site-packages (from requests>=2.20->twine->pyloco>=0.0.134->matplot->-r requirements.txt (line 8)) (3.8)\n",
      "Requirement already satisfied: certifi>=2017.4.17 in /Users/drweb/projects/mmir-unibasel/.venv/lib/python3.11/site-packages (from requests>=2.20->twine->pyloco>=0.0.134->matplot->-r requirements.txt (line 8)) (2024.8.30)\n",
      "Requirement already satisfied: markdown-it-py>=2.2.0 in /Users/drweb/projects/mmir-unibasel/.venv/lib/python3.11/site-packages (from rich>=12.0.0->twine->pyloco>=0.0.134->matplot->-r requirements.txt (line 8)) (3.0.0)\n",
      "Requirement already satisfied: mdurl~=0.1 in /Users/drweb/projects/mmir-unibasel/.venv/lib/python3.11/site-packages (from markdown-it-py>=2.2.0->rich>=12.0.0->twine->pyloco>=0.0.134->matplot->-r requirements.txt (line 8)) (0.1.2)\n",
      "Requirement already satisfied: more-itertools in /Users/drweb/projects/mmir-unibasel/.venv/lib/python3.11/site-packages (from jaraco.classes->keyring>=15.1->twine->pyloco>=0.0.134->matplot->-r requirements.txt (line 8)) (10.5.0)\n",
      "Requirement already satisfied: backports.tarfile in /Users/drweb/projects/mmir-unibasel/.venv/lib/python3.11/site-packages (from jaraco.context->keyring>=15.1->twine->pyloco>=0.0.134->matplot->-r requirements.txt (line 8)) (1.2.0)\n",
      "Note: you may need to restart the kernel to use updated packages.\n"
     ]
    }
   ],
   "source": [
    "%pip install -r requirements.txt\n",
    "%load_ext autoreload\n",
    "%autoreload 2   "
   ]
  },
  {
   "cell_type": "code",
   "execution_count": 2,
   "metadata": {},
   "outputs": [],
   "source": [
    "from helpers import print_table\n",
    "from vectorspace import VSRetriever, TopKList, VSRetriever_TAAT, VSRetriever_DAAT\n",
    "from datasets import imdb as collection\n",
    "import ipywidgets as widgets\n",
    "import random\n",
    "import math\n",
    "from itertools import islice\n",
    "from typing import Callable\n",
    "from helpers import set_of_words\n",
    "from collections import defaultdict\n",
    "from functools import reduce\n",
    "from IPython.display import clear_output"
   ]
  },
  {
   "cell_type": "markdown",
   "metadata": {},
   "source": [
    "## IMDB data set"
   ]
  },
  {
   "cell_type": "code",
   "execution_count": 3,
   "metadata": {},
   "outputs": [
    {
     "data": {
      "text/markdown": [
       "|   id | title                           |   year |   runtime |   rating | genre                 | actors                          | summary                                                                                               |\n",
       "|-----:|:--------------------------------|-------:|----------:|---------:|:----------------------|:--------------------------------|:------------------------------------------------------------------------------------------------------|\n",
       "|    1 | The Shawshank Redemption        |   1994 |       142 |      9.3 | Drama                 | Tim Robbins Morgan Freeman Bob… | Two imprisoned men bond over a number of years, finding solace and eventual redemption through acts … |\n",
       "|    2 | The Godfather                   |   1972 |       175 |      9.2 | Crime Drama           | Marlon Brando Al Pacino James … | An organized crime dynasty's aging patriarch transfers control of his clandestine empire to his relu… |\n",
       "|    3 | The Dark Knight                 |   2008 |       152 |      9   | Action Crime Drama    | Christian Bale Heath Ledger Aa… | When the menace known as the Joker wreaks havoc and chaos on the people of Gotham, Batman must accep… |\n",
       "|    4 | The Godfather: Part II          |   1974 |       202 |      9   | Crime Drama           | Al Pacino Robert De Niro Rober… | The early life and career of Vito Corleone in 1920s New York City is portrayed, while his son, Micha… |\n",
       "|    5 | 12 Angry Men                    |   1957 |        96 |      9   | Crime Drama           | Henry Fonda Lee J. Cobb Martin… | A jury holdout attempts to prevent a miscarriage of justice by forcing his colleagues to reconsider … |\n",
       "|    6 | The Lord of the Rings: The Ret… |   2003 |       201 |      8.9 | Action Adventure Dra… | Elijah Wood Viggo Mortensen Ia… | Gandalf and Aragorn lead the World of Men against Sauron's army to draw his gaze from Frodo and Sam … |\n",
       "|    7 | Pulp Fiction                    |   1994 |       154 |      8.9 | Crime Drama           | John Travolta Uma Thurman Samu… | The lives of two mob hitmen, a boxer, a gangster and his wife, and a pair of diner bandits intertwin… |\n",
       "|    8 | Schindler's List                |   1993 |       195 |      8.9 | Biography Drama Hist… | Liam Neeson Ralph Fiennes Ben … | In German-occupied Poland during World War II, industrialist Oskar Schindler gradually becomes conce… |\n",
       "|    9 | Inception                       |   2010 |       148 |      8.8 | Action Adventure Sci… | Leonardo DiCaprio Joseph Gordo… | A thief who steals corporate secrets through the use of dream-sharing technology is given the invers… |\n",
       "|   10 | Fight Club                      |   1999 |       139 |      8.8 | Drama                 | Brad Pitt Edward Norton Meat L… | An insomniac office worker and a devil-may-care soapmaker form an underground fight club that evolve… |"
      ],
      "text/plain": [
       "<IPython.core.display.Markdown object>"
      ]
     },
     "metadata": {},
     "output_type": "display_data"
    },
    {
     "data": {
      "text/markdown": [
       "| term        |   df |   idf | posting                            |\n",
       "|:------------|-----:|------:|:-----------------------------------|\n",
       "| grondin     |    1 |  6.22 | 501 (6.22)                         |\n",
       "| uri         |    1 |  6.22 | 130 (6.22)                         |\n",
       "| settling    |    1 |  6.22 | 839 (6.22)                         |\n",
       "| hagerty     |    1 |  6.22 | 843 (6.22)                         |\n",
       "| richter     |    1 |  6.22 | 115 (6.22)                         |\n",
       "| dita        |    1 |  6.22 | 316 (6.22)                         |\n",
       "| milegi      |    1 |  6.22 | 222 (6.22)                         |\n",
       "| hood        |    3 |  5.52 | 565 (5.52), 607 (5.52), 670 (5.52) |\n",
       "| ferrara     |    1 |  6.22 | 538 (6.22)                         |\n",
       "| kalki       |    1 |  6.22 | 351 (6.22)                         |\n",
       "| farahani    |    1 |  6.22 | 350 (6.22)                         |\n",
       "| sylwan      |    1 |  6.22 | 286 (6.22)                         |\n",
       "| slights     |    1 |  6.22 | 595 (6.22)                         |\n",
       "| wookiee     |    1 |  6.22 | 30 (6.22)                          |\n",
       "| jean-paul   |    1 |  6.22 | 709 (6.22)                         |\n",
       "| ladykillers |    1 |  6.22 | 870 (6.22)                         |\n",
       "| zone        |    1 |  6.22 | 175 (6.22)                         |\n",
       "| maribel     |    2 |  5.81 | 151 (5.81), 947 (5.81)             |\n",
       "| dunbar      |    1 |  6.22 | 403 (6.22)                         |\n",
       "| komma       |    1 |  6.22 | 488 (6.22)                         |"
      ],
      "text/plain": [
       "<IPython.core.display.Markdown object>"
      ]
     },
     "metadata": {},
     "output_type": "display_data"
    },
    {
     "name": "stdout",
     "output_type": "stream",
     "text": [
      "1000 documents in collection\n",
      "9836 distinct terms in collection\n",
      "26200 postings\n"
     ]
    }
   ],
   "source": [
    "# load data set and index collection for boolean retrieval\n",
    "retriever = VSRetriever(collection.load())\n",
    "\n",
    "# show collection\n",
    "n, m = min(10, retriever.n_docs), min(20, retriever.n_terms)\n",
    "\n",
    "print_table([collection.format(doc) for doc in retriever.documents.values()], collection.headers(), max_rows = n)\n",
    "print_table(random.sample([[term, term_data['df'], round(term_data['idf'], 2), ', '.join([f'{doc_id} ({round(w, 2)})' for doc_id, w in retriever.index[term]])] for term, term_data in retriever.vocabulary.items()], m), ['term', 'df', 'idf', 'posting'], max_rows=m)\n",
    "\n",
    "print(f'{len(retriever.documents)} documents in collection')\n",
    "print(f'{len(retriever.vocabulary)} distinct terms in collection')\n",
    "print('{count} postings'.format(count=sum([len(postings) for postings in retriever.index.values()])))"
   ]
  },
  {
   "cell_type": "markdown",
   "metadata": {},
   "source": [
    "### IDF implementations and BM25 parameters\n",
    "BM25 parameters are typically `k=1.2` and `b=0.75`, while `adl` must be set from the collection. If we leave `adl=None`, the term normalization does not take document length into account (which is ok if documents in the collection have about equal length)"
   ]
  },
  {
   "cell_type": "code",
   "execution_count": 4,
   "metadata": {},
   "outputs": [],
   "source": [
    "BM25 = { 'k': 1.2, 'b': 0.75, 'adl': None }\n",
    "\n",
    "def idf(doc_freq: int, num_docs: int) -> float:\n",
    "    return math.log((num_docs + 1) / (doc_freq + 1))\n",
    "\n",
    "def idf_bm25(doc_freq: int, num_docs: int) -> float:\n",
    "    return math.log((num_docs - doc_freq + 0.5) / (doc_freq + 0.5))\n",
    "    \n",
    "def idf_bm25_pos(doc_freq: int, num_docs: int) -> float:\n",
    "    return math.log((num_docs + 1) / (doc_freq + 0.5))"
   ]
  },
  {
   "cell_type": "markdown",
   "metadata": {},
   "source": [
    "### TF normalization functions\n",
    "We apply document normalization at index building time. We also use normalized query vectors so that similarity becomes a simple dot product between document and query vector. The function below performs term normalization for documents given a bag-of-word and a vocabulary. The vocabulary maps a term to a dictionary that holds the idf values for the dot-product and cosine measure. "
   ]
  },
  {
   "cell_type": "code",
   "execution_count": 5,
   "metadata": {},
   "outputs": [],
   "source": [
    "def normalize_doc_vector(vector: dict[str, int], vocabulary: dict[str, dict], measure: str) -> dict[str, float]:\n",
    "    # dot-product: multiply each term's tf by its idf\n",
    "    if measure == 'dot':\n",
    "        return {term: tf * vocabulary[term]['idf'] for term,tf in vector.items()}\n",
    "\n",
    "    # cosine-measure: multiply each term's tf by its idf and divide by total vector length\n",
    "    if measure == 'cosine':\n",
    "        norm = sum([(tf * vocabulary[term]['idf']) ** 2 for term, tf in vector.items()]) ** 0.5\n",
    "        return {term: tf * vocabulary[term]['idf'] / norm for term, tf in vector.items()}\n",
    "\n",
    "    # bm25: normalize with bm25 formula with document length\n",
    "    if measure in ['bm25', 'bm25-pos'] and BM25['adl']:\n",
    "        doc_len = sum(vector.values())\n",
    "        return {term: tf * (BM25['k'] + 1) / (tf + BM25['k'] * (1 - BM25['b'] + BM25['b'] * doc_len / BM25['adl']))  for term, tf in vector.items()}\n",
    "\n",
    "    # bm25: normalize with bm25 formula without document length\n",
    "    if measure in ['bm25', 'bm25-nolen', 'bm25-pos']:\n",
    "        return {term: tf * (BM25['k'] + 1) / (tf + BM25['k'])  for term, tf in vector.items()}\n",
    "\n",
    "    raise ValueError('Unknown normalization measure')"
   ]
  },
  {
   "cell_type": "markdown",
   "metadata": {},
   "source": [
    "### Build the index"
   ]
  },
  {
   "cell_type": "code",
   "execution_count": 6,
   "metadata": {},
   "outputs": [],
   "source": [
    "# defines query, predicates, and assessments for demo\n",
    "queries = [\n",
    "    'star wars', \n",
    "    'drama morgan freeman', \n",
    "    'comedy'\n",
    "]\n",
    "assessments = {\n",
    "    'top-100': lambda id: id < 100,\n",
    "    'star in title': lambda id: 'star' in retriever.documents[id]['title'].lower(),\n",
    "    'morgan in actor': lambda id: 'morgan' in retriever.documents[id]['actors'].lower(),\n",
    "    'comedy in genre': lambda id: 'comedy' in retriever.documents[id]['genre'].lower(),\n",
    "}\n",
    "predicates = {\n",
    "    'year < 1990': lambda id: retriever.documents[id]['year'] < 1990,\n",
    "    'year >= 1990': lambda id: retriever.documents[id]['year'] >= 1990,\n",
    "}\n",
    "selections = {\n",
    "    'top-100': list(range(100)),\n",
    "    'top-250': list(range(250)),\n",
    "}\n",
    "\n",
    "def print_topk(topk: TopKList):\n",
    "    list = []\n",
    "    for entry in topk:\n",
    "        list.append(collection.format(retriever.documents[entry['id']], [\n",
    "            entry['rank'],\n",
    "            round(entry['score'], 2)\n",
    "        ]))\n",
    "    print_table(list, collection.headers('rel', 'score'), max_rows=len(list))\n",
    "\n",
    "retriever = VSRetriever_DAAT()"
   ]
  },
  {
   "cell_type": "markdown",
   "metadata": {},
   "source": [
    "### Search with feedback iterations"
   ]
  },
  {
   "cell_type": "code",
   "execution_count": 8,
   "metadata": {},
   "outputs": [
    {
     "data": {
      "application/vnd.jupyter.widget-view+json": {
       "model_id": "fa2bf27791c045c69aaea11bd0ed41b7",
       "version_major": 2,
       "version_minor": 0
      },
      "text/plain": [
       "VBox(children=(HBox(children=(Dropdown(options=('dot', 'cosine', 'bm25', 'bm25-pos', 'bm25-nolen'), value='dot…"
      ]
     },
     "metadata": {},
     "output_type": "display_data"
    }
   ],
   "source": [
    "# remove handlers if we re-execute this cell, need to do this before we overwrite function\n",
    "try:\n",
    "    opt_measure.unobserve(rebuild_dataset, 'value')\n",
    "except:\n",
    "    pass\n",
    "\n",
    "def run_query(query: str, k:int, predicate: str, selection: str):\n",
    "    topk = retriever.search(query, k, measure=opt_measure.value, predicate=predicates.get(predicate, None), selected_docs=selections.get(selection, None))\n",
    "    print_topk(topk)\n",
    "    for term in sorted(topk.weights.keys(), key = lambda term: -topk.weights[term]):\n",
    "        print(term.rjust(16), topk.weights[term])\n",
    "\n",
    "def rebuild_dataset(*args):\n",
    "    retriever.build_index(collection.load(), opt_measure.value, remove_stopwords=True)\n",
    "    f_query.options = list(queries)\n",
    "    f_predicate.options = ['<none>'] + list(predicates.keys())\n",
    "    f_selection.options = ['<none>'] + list(selections.keys())\n",
    "    k = f_k.value\n",
    "    f_k.value = 0\n",
    "    f_k.value = k\n",
    "\n",
    "# build the dataset widgets\n",
    "opt_measure = widgets.Dropdown(options=['dot', 'cosine', 'bm25', 'bm25-pos', 'bm25-nolen'])\n",
    "form_data = widgets.HBox([opt_measure], layout = {'margin': '0px 0px 20px'})\n",
    "opt_measure.observe(rebuild_dataset, 'value')\n",
    "\n",
    "# build query form\n",
    "f_query = widgets.Dropdown(description='query', options=list(queries))\n",
    "f_k = widgets.IntSlider(min=5, max=50, step=5, value=20)\n",
    "f_predicate = widgets.Dropdown(description='predicate',options=['<none>'] + list(predicates.keys()))\n",
    "f_selection = widgets.Dropdown(description='selection',options=['<none>'] + list(selections.keys()))\n",
    "form_query = widgets.interactive(run_query, query=f_query, k=f_k, predicate=f_predicate, selection=f_selection)\n",
    "\n",
    "# display\n",
    "rebuild_dataset()\n",
    "display(widgets.VBox([form_data, form_query]))"
   ]
  },
  {
   "cell_type": "code",
   "execution_count": null,
   "metadata": {},
   "outputs": [],
   "source": []
  }
 ],
 "metadata": {
  "kernelspec": {
   "display_name": ".venv",
   "language": "python",
   "name": "python3"
  },
  "language_info": {
   "codemirror_mode": {
    "name": "ipython",
    "version": 3
   },
   "file_extension": ".py",
   "mimetype": "text/x-python",
   "name": "python",
   "nbconvert_exporter": "python",
   "pygments_lexer": "ipython3",
   "version": "3.11.8"
  }
 },
 "nbformat": 4,
 "nbformat_minor": 2
}
